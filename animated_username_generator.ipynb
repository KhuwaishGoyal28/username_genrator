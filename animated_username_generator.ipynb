import random
import ipywidgets as widgets
from IPython.display import display, HTML, clear_output
from sklearn.ensemble import RandomForestRegressor
import pandas as pd
import numpy as np

style = """
<style>
    .title {
        font-size: 36px; 
        font-weight: bold; 
        color: #4CAF50; 
        text-align: center; 
        margin: 10px;
        animation: fade-in 2s;
    }
    @keyframes fade-in {
        0% {opacity: 0;}
        100% {opacity: 1;}
    }
    .username-box {
        font-size: 24px; 
        font-weight: bold; 
        color: white; 
        text-align: center; 
        padding: 10px; 
        border-radius: 8px; 
        background: linear-gradient(90deg, #FF5722, #2196F3, #4CAF50, #FFEB3B);
        animation: shine 2s infinite alternate;
        margin: 20px auto;
        width: 50%;
    }
    @keyframes shine {
        0% {background-position: 0%;}
        100% {background-position: 100%;}
    }
    .button {
        font-size: 18px; 
        font-weight: bold; 
        color: white; 
        background-color: #FF5722; 
        border: none; 
        border-radius: 8px; 
        padding: 10px 20px; 
        margin: 10px;
        transition: background-color 0.3s, transform 0.3s;
    }
    .button:hover {
        background-color: #E64A19; 
        transform: scale(1.1);
        cursor: pointer;
    }
    .rating {
        text-align: center;
        font-size: 16px;
        margin: 10px 0;
    }
    .success-message {
        font-size: 16px; 
        font-weight: bold; 
        color: green;
        text-align: center;
        margin: 10px 0;
    }
</style>
"""

display(HTML(style))

adjectives = ["Happy", "Cool", "Brave", "Clever", "Kind", "Bright", "Strong", "Mighty", "Funky", "Jolly"]
nouns = ["Tiger", "Dragon", "Phoenix", "Knight", "Wolf", "Bear", "Falcon", "Lion", "Raven", "Shark"]

data = {
    "Adjective": [],
    "Noun": [],
    "Number": [],
    "SpecialChar": [],
    "Rating": []
}

rated_usernames = []
model = RandomForestRegressor()

def generate_username(include_number=True, include_special_char=True):
    adjective = random.choice(adjectives)
    noun = random.choice(nouns)
    number = random.randint(10, 99) if include_number else ""
    special_char = random.choice("!@#$%^&*") if include_special_char else ""
    return adjective, noun, number, special_char, f"{adjective}{noun}{number}{special_char}"

def save_preferences(adjective, noun, number, special_char, rating):
    data["Adjective"].append(adjective)
    data["Noun"].append(noun)
    data["Number"].append(number if number else 0)
    data["SpecialChar"].append(special_char if special_char else "")
    data["Rating"].append(rating)
    rated_usernames.append(f"{adjective}{noun}{number}{special_char} | Rating: {rating}")

def train_model():
    if len(data["Rating"]) > 5:
        df = pd.DataFrame(data)
        X = df[["Adjective", "Noun", "Number", "SpecialChar"]].apply(lambda x: x.map(hash))
        y = df["Rating"]
        model.fit(X, y)

def predict_username_quality(adjective, noun, number, special_char):
    if len(data["Rating"]) < 5:
        return random.uniform(3, 5)
    return model.predict([[hash(adjective), hash(noun), number if number else 0, hash(special_char) if special_char else 0]])[0]

def generate_ai_based_username(include_number=True, include_special_char=True):
    if len(data["Rating"]) > 5:
        adjective_scores = {adj: model.predict([[hash(adj), 0, 0, 0]])[0] for adj in adjectives}
        noun_scores = {noun: model.predict([[0, hash(noun), 0, 0]])[0] for noun in nouns}
        top_adjective = max(adjective_scores, key=adjective_scores.get)
        top_noun = max(noun_scores, key=noun_scores.get)
        number = random.randint(10, 99) if include_number else ""
        special_char = random.choice("!@#$%^&*") if include_special_char else ""
        return top_adjective, top_noun, number, special_char, f"{top_adjective}{top_noun}{number}{special_char}"
    else:
        return generate_username(include_number, include_special_char)

generate_button = widgets.Button(description="🎉 Generate Username", button_style="primary")
rate_slider = widgets.IntSlider(value=3, min=1, max=5, step=1, description="Rate (1-5):")
save_button = widgets.Button(description="✅ Submit Rating", button_style="success")
download_button = widgets.Button(description="⬇️ Download Usernames", button_style="info")

include_number_toggle = widgets.Checkbox(value=True, description="Include Numbers")
include_special_char_toggle = widgets.Checkbox(value=True, description="Include Special Characters")

output_area = widgets.Output()
rating_area = widgets.Output()

def on_generate_click(change):
    with output_area:
        clear_output(wait=True)
        adjective, noun, number, special_char, username = generate_ai_based_username(
            include_number_toggle.value, include_special_char_toggle.value
        )
        predicted_quality = predict_username_quality(adjective, noun, number, special_char)
        display(HTML(f"<div class='username-box'>{username}</div>"))
        display(HTML(f"<div class='rating'>Predicted Quality: {predicted_quality:.2f} ★</div>"))
        current_username.value = username
        current_adjective.value = adjective
        current_noun.value = noun
        current_number.value = number
        current_special_char.value = special_char
        display(rate_slider)
        display(save_button)

def on_save_click(change):
    with rating_area:
        clear_output(wait=True)
        save_preferences(current_adjective.value, current_noun.value, current_number.value, current_special_char.value, rate_slider.value)
        train_model()
        display(HTML("<p class='success-message'>✅ Rating saved and AI model updated! Generating a new username...</p>"))
        on_generate_click(None)

def on_download_click(change):
    filename = "rated_usernames.txt"
    with open(filename, "w") as file:
        file.writelines("\n".join(rated_usernames))
    with output_area:
        display(HTML(f"<p class='success-message'>⬇️ Usernames saved to <b>{filename}</b>!</p>"))

current_username = widgets.Text(value="", description="", disabled=True)
current_adjective = widgets.Text(value="", description="", disabled=True)
current_noun = widgets.Text(value="", description="", disabled=True)
current_number = widgets.IntText(value=0, description="", disabled=True)
current_special_char = widgets.Text(value="", description="", disabled=True)

generate_button.on_click(on_generate_click)
save_button.on_click(on_save_click)
download_button.on_click(on_download_click)

display(HTML("<h1 class='title'>🎮 AI-Enhanced Username Generator 🎨</h1>"))
display(include_number_toggle, include_special_char_toggle)
display(generate_button)
display(output_area)
display(rating_area)
display(download_button)

