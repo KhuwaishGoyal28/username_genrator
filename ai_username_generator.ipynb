import random
import ipywidgets as widgets
from IPython.display import display, HTML, clear_output
from sklearn.ensemble import RandomForestRegressor
from sklearn.exceptions import NotFittedError
import pandas as pd
import nltk
from nltk.corpus import words

# Download NLTK data
nltk.download("words")

# Styles
style = """
<style>
    .title {
        font-size: 36px; 
        font-weight: bold; 
        color: #4CAF50; 
        text-align: center; 
        margin: 10px;
        animation: fade-in 2s;
    }
    @keyframes fade-in {
        0% {opacity: 0;}
        100% {opacity: 1;}
    }
    .username-box {
        font-size: 24px; 
        font-weight: bold; 
        color: white; 
        text-align: center; 
        padding: 10px; 
        border-radius: 8px; 
        background: linear-gradient(90deg, #FF5722, #2196F3, #4CAF50, #FFEB3B);
        animation: shine 2s infinite alternate;
        margin: 20px auto;
        width: 50%;
    }
    @keyframes shine {
        0% {background-position: 0%;}
        100% {background-position: 100%;}
    }
    .button {
        font-size: 18px; 
        font-weight: bold; 
        color: white; 
        background-color: #FF5722; 
        border: none; 
        border-radius: 8px; 
        padding: 10px 20px; 
        margin: 10px;
        transition: background-color 0.3s, transform 0.3s;
    }
    .button:hover {
        background-color: #E64A19; 
        transform: scale(1.1);
        cursor: pointer;
    }
    .rating {
        text-align: center;
        font-size: 16px;
        margin: 10px 0;
    }
    .success-message {
        font-size: 16px; 
        font-weight: bold; 
        color: green;
        text-align: center;
        margin: 10px 0;
    }
</style>
"""

display(HTML(style))

# Words for username generation
adjectives = [word for word in words.words() if len(word) <= 8 and word[0].isupper()]
nouns = [word for word in words.words() if len(word) <= 8 and word[0].islower()]

# Data storage and AI model
data = {
    "Adjective": [],
    "Noun": [],
    "Number": [],
    "SpecialChar": [],
    "Rating": []
}
model = RandomForestRegressor()

def generate_username(num_letters, include_number, include_special_char):
    adjective = random.choice(adjectives)
    noun = random.choice(nouns)
    combined = (adjective + noun)[:num_letters]
    number = str(random.randint(10, 99)) if include_number else ""
    special_char = random.choice("!@#$%^&*") if include_special_char else ""
    username = f"{combined}{number}{special_char}"
    return adjective, noun, number, special_char, username

def save_preferences(adjective, noun, number, special_char, rating):
    data["Adjective"].append(adjective)
    data["Noun"].append(noun)
    data["Number"].append(number)
    data["SpecialChar"].append(special_char)
    data["Rating"].append(rating)

def train_model():
    if len(data["Rating"]) > 5:
        df = pd.DataFrame(data)
        X = df[["Adjective", "Noun", "Number", "SpecialChar"]].apply(lambda x: x.map(hash))
        y = df["Rating"]
        model.fit(X, y)

def predict_username_quality(adjective, noun, number, special_char):
    if len(data["Rating"]) < 5:
        return random.uniform(3, 5)
    try:
        return model.predict([[hash(adjective), hash(noun), int(number) if number else 0, hash(special_char) if special_char else 0]])[0]
    except NotFittedError:
        return random.uniform(3, 5)

# Widgets
num_letters_input = widgets.IntText(value=5, description="Letters:")
include_number_toggle = widgets.Checkbox(value=True, description="Include Numbers")
include_special_char_toggle = widgets.Checkbox(value=True, description="Include Special Characters")
generate_button = widgets.Button(description="🎉 Generate Username", button_style="primary")
rate_slider = widgets.IntSlider(value=3, min=1, max=5, step=1, description="Rate (1-5):")
save_button = widgets.Button(description="✅ Save Rating", button_style="success")
download_button = widgets.Button(description="💾 Download Usernames", button_style="info")
output_area = widgets.Output()
rating_area = widgets.Output()

current_username = widgets.Text(value="", description="", disabled=True)
current_adjective = widgets.Text(value="", description="", disabled=True)
current_noun = widgets.Text(value="", description="", disabled=True)
current_number = widgets.IntText(value=0, description="", disabled=True)
current_special_char = widgets.Text(value="", description="", disabled=True)

# Handlers
def on_generate_click(change):
    with output_area:
        clear_output(wait=True)
        num_letters = num_letters_input.value
        adjective, noun, number, special_char, username = generate_username(
            num_letters, include_number_toggle.value, include_special_char_toggle.value
        )
        predicted_quality = predict_username_quality(adjective, noun, number, special_char)
        display(HTML(f"<div class='username-box'>{username}</div>"))
        display(HTML(f"<div class='rating'>Predicted Quality: {predicted_quality:.2f} ★</div>"))
        current_username.value = username
        current_adjective.value = adjective
        current_noun.value = noun
        current_number.value = number
        current_special_char.value = special_char

def on_save_click(change):
    with rating_area:
        clear_output(wait=True)
        save_preferences(
            current_adjective.value, current_noun.value, current_number.value, current_special_char.value, rate_slider.value
        )
        train_model()
        df = pd.DataFrame(data)
        df.to_csv("username_ratings.csv", index=False)
        display(HTML("<p class='success-message'>✅ Rating saved and AI model updated!</p>"))

def on_download_click(change):
    df = pd.DataFrame(data)
    df.to_csv("username_ratings.csv", index=False)
    with output_area:
        display(HTML("<p class='success-message'>💾 Usernames saved to 'username_ratings.csv'!</p>"))

generate_button.on_click(on_generate_click)
save_button.on_click(on_save_click)
download_button.on_click(on_download_click)

# Layout
display(widgets.VBox([
    widgets.HTML("<h1 class='title'>AI Username Generator</h1>"),
    num_letters_input,
    include_number_toggle,
    include_special_char_toggle,
    generate_button,
    output_area,
    widgets.HBox([rate_slider, save_button]),
    download_button,
    rating_area
]))
